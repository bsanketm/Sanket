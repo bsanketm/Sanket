{
 "cells": [
  {
   "cell_type": "markdown",
   "metadata": {},
   "source": [
    "Calculator Using Function"
   ]
  },
  {
   "cell_type": "code",
   "execution_count": 1,
   "metadata": {},
   "outputs": [],
   "source": [
    "def add(q,r):\n",
    "    print(\"addition of\",q+ r)\n",
    "def sub(q,r):\n",
    "    print(\"Subtraction of\", q-r)\n",
    "def mult(q,r):\n",
    "    print(\"Multipication of number is\",q* r)\n",
    "def div(q,r):\n",
    "    print(\"Division of Nimber is\",q/r)\n",
    "def power(q,r):\n",
    "    print(\"q^r is\",q**r)"
   ]
  },
  {
   "cell_type": "code",
   "execution_count": 2,
   "metadata": {},
   "outputs": [
    {
     "name": "stdout",
     "output_type": "stream",
     "text": [
      "addition of 5\n",
      "Subtraction of 1\n",
      "Multipication of number is 9\n",
      "Division of Nimber is 2.0\n",
      "q^r is 8\n"
     ]
    }
   ],
   "source": [
    "add(2,3)\n",
    "sub(3,2)\n",
    "mult(3,3)\n",
    "div(4,2)\n",
    "power(2,3)"
   ]
  },
  {
   "cell_type": "code",
   "execution_count": null,
   "metadata": {},
   "outputs": [],
   "source": [
    "Calculator using if, elif"
   ]
  },
  {
   "cell_type": "code",
   "execution_count": 3,
   "metadata": {},
   "outputs": [
    {
     "name": "stdout",
     "output_type": "stream",
     "text": [
      "enter first number30\n",
      "select( +, -, /, *):\n",
      "/\n",
      "Enter second number10\n",
      "Answer: 3.0\n"
     ]
    }
   ],
   "source": [
    "q =int(input(\"enter first number\"))\n",
    "operator=input(\"select( +, -, /, *):\\n\")\n",
    "r =int(input(\"Enter second number\"))\n",
    "out=None\n",
    "\n",
    "if operator ==\"+\":\n",
    "    out = q+r\n",
    "elif operator == '-':\n",
    "    out = q-r\n",
    "elif operator == '/':\n",
    "    out = q/r\n",
    "elif operator == '*':\n",
    "    out = q*r\n",
    "print(\"Answer: \" + str(out))"
   ]
  }
 ],
 "metadata": {
  "kernelspec": {
   "display_name": "Python 3",
   "language": "python",
   "name": "python3"
  },
  "language_info": {
   "codemirror_mode": {
    "name": "ipython",
    "version": 3
   },
   "file_extension": ".py",
   "mimetype": "text/x-python",
   "name": "python",
   "nbconvert_exporter": "python",
   "pygments_lexer": "ipython3",
   "version": "3.7.4"
  }
 },
 "nbformat": 4,
 "nbformat_minor": 2
}
